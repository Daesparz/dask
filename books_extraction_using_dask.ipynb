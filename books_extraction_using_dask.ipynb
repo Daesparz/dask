{
 "cells": [
  {
   "cell_type": "markdown",
   "metadata": {},
   "source": [
    "# Dask to deal with large datasets"
   ]
  },
  {
   "cell_type": "markdown",
   "metadata": {},
   "source": [
    "Dask uses existing Python APIs and data structures to make you feel comfortable using its Numpy, Pandas and Scikit-learn equivalent tools. \n",
    "\n",
    "In this section, we use Dask Bag and Python JSON module to get initial findings from a large JSON data (9.2GB) of books. Dask Bag implements operations like *map*, *filter*, *fold*, and *groupby* on collections of generic Python objects. In the following, we are processing this data filtering records of interest, mapping functions to process the data and aggregating results to get meaningful values."
   ]
  },
  {
   "cell_type": "markdown",
   "metadata": {},
   "source": [
    "Importing packages:"
   ]
  },
  {
   "cell_type": "code",
   "execution_count": 1,
   "metadata": {},
   "outputs": [],
   "source": [
    "import dask.bag as db\n",
    "import pandas as pd\n",
    "import numpy as np\n",
    "import json\n",
    "\n",
    "b = db.read_text('books/goodreads_books.json').map(json.loads)"
   ]
  },
  {
   "cell_type": "markdown",
   "metadata": {},
   "source": [
    "Every book contains its own dictionary of information. Displaying the content of one dictionary, we know exactly how data looks and the name of the different keys. Taking 1 sample:"
   ]
  },
  {
   "cell_type": "code",
   "execution_count": 2,
   "metadata": {
    "scrolled": false
   },
   "outputs": [
    {
     "data": {
      "text/plain": [
       "({'isbn': '0312853122',\n",
       "  'text_reviews_count': '1',\n",
       "  'series': [],\n",
       "  'country_code': 'US',\n",
       "  'language_code': '',\n",
       "  'popular_shelves': [{'count': '3', 'name': 'to-read'},\n",
       "   {'count': '1', 'name': 'p'},\n",
       "   {'count': '1', 'name': 'collection'},\n",
       "   {'count': '1', 'name': 'w-c-fields'},\n",
       "   {'count': '1', 'name': 'biography'}],\n",
       "  'asin': '',\n",
       "  'is_ebook': 'false',\n",
       "  'average_rating': '4.00',\n",
       "  'kindle_asin': '',\n",
       "  'similar_books': [],\n",
       "  'description': '',\n",
       "  'format': 'Paperback',\n",
       "  'link': 'https://www.goodreads.com/book/show/5333265-w-c-fields',\n",
       "  'authors': [{'author_id': '604031', 'role': ''}],\n",
       "  'publisher': \"St. Martin's Press\",\n",
       "  'num_pages': '256',\n",
       "  'publication_day': '1',\n",
       "  'isbn13': '9780312853129',\n",
       "  'publication_month': '9',\n",
       "  'edition_information': '',\n",
       "  'publication_year': '1984',\n",
       "  'url': 'https://www.goodreads.com/book/show/5333265-w-c-fields',\n",
       "  'image_url': 'https://images.gr-assets.com/books/1310220028m/5333265.jpg',\n",
       "  'book_id': '5333265',\n",
       "  'ratings_count': '3',\n",
       "  'work_id': '5400751',\n",
       "  'title': 'W.C. Fields: A Life on Film',\n",
       "  'title_without_series': 'W.C. Fields: A Life on Film'},)"
      ]
     },
     "execution_count": 2,
     "metadata": {},
     "output_type": "execute_result"
    }
   ],
   "source": [
    "b.take(1)"
   ]
  },
  {
   "cell_type": "code",
   "execution_count": 3,
   "metadata": {},
   "outputs": [
    {
     "name": "stdout",
     "output_type": "stream",
     "text": [
      "<class 'dask.bag.core.Bag'>\n"
     ]
    }
   ],
   "source": [
    "print(type(b))"
   ]
  },
  {
   "cell_type": "markdown",
   "metadata": {},
   "source": [
    "Now, we know that there is information about language, publication date, author, title, format, description of the book and more. If you have an idea about what are you exactly looking for, you can reduce the size of this bag selecting only the useful columns. This is specially practical if you create a DataFrame later."
   ]
  },
  {
   "cell_type": "markdown",
   "metadata": {},
   "source": [
    "Here, we retrieve some keys, listed to following, in the method `flatten`."
   ]
  },
  {
   "cell_type": "code",
   "execution_count": 4,
   "metadata": {},
   "outputs": [],
   "source": [
    "def flatten(record):\n",
    "    return {\n",
    "        'text_reviews_count': record['text_reviews_count'],\n",
    "        'language_code': record['language_code'],\n",
    "        'is_ebook': record['is_ebook'],\n",
    "        'average_rating': record['average_rating'],\n",
    "        'kindle_asin': record['kindle_asin'],\n",
    "        'description': record['description'],\n",
    "        'format': record['format'],\n",
    "        'authors': record['authors'],\n",
    "        'publisher': record['publisher'],\n",
    "        'num_pages': record['num_pages'],\n",
    "        'publication_day': record['publication_day'],\n",
    "        'publication_month': record['publication_month'],\n",
    "        'publication_year': record['publication_year'],\n",
    "        'book_id': record['book_id'],\n",
    "        'ratings_count': record['ratings_count'],\n",
    "        'title': record['title'],\n",
    "        'title_without_series': record['title_without_series']\n",
    "    }"
   ]
  },
  {
   "cell_type": "markdown",
   "metadata": {},
   "source": [
    "Taking 10 items, but displaying the second one:"
   ]
  },
  {
   "cell_type": "code",
   "execution_count": 5,
   "metadata": {},
   "outputs": [
    {
     "data": {
      "text/plain": [
       "{'text_reviews_count': '6',\n",
       " 'language_code': '',\n",
       " 'is_ebook': 'false',\n",
       " 'average_rating': '3.23',\n",
       " 'kindle_asin': 'B000FC0PBC',\n",
       " 'description': 'Anita Diamant\\'s international bestseller \"The Red Tent\" brilliantly re-created the ancient world of womanhood. Diamant brings her remarkable storytelling skills to \"Good Harbor\" -- offering insight to the precarious balance of marriage and career, motherhood and friendship in the world of modern women. The seaside town of Gloucester, Massachusetts is a place where the smell of the ocean lingers in the air and the rocky coast glistens in the Atlantic sunshine. When longtime Gloucester-resident Kathleen Levine is diagnosed with breast cancer, her life is thrown into turmoil. Frightened and burdened by secrets, she meets Joyce Tabachnik -- a freelance writer with literary aspirations -- and a once-in-a-lifetime friendship is born. Joyce has just bought a small house in Gloucester, where she hopes to write as well as vacation with her family. Like Kathleen, Joyce is at a fragile place in her life.\\nA mutual love for books, humor, and the beauty of the natural world brings the two women together. They share their personal histories, and help each other to confront scars left by old emotional wounds.\\nWith her own trademark wisdom and humor, Diamant considers the nature, strength, and necessity of adult female friendship. \"Good Harbor\" examines the tragedy of loss, the insidious nature of family secrets, as well as the redemptive power of friendship.',\n",
       " 'format': 'Audio CD',\n",
       " 'authors': [{'author_id': '626222', 'role': ''}],\n",
       " 'publisher': 'Simon & Schuster Audio',\n",
       " 'num_pages': '',\n",
       " 'publication_day': '1',\n",
       " 'publication_month': '10',\n",
       " 'publication_year': '2001',\n",
       " 'book_id': '1333909',\n",
       " 'ratings_count': '10',\n",
       " 'title': 'Good Harbor',\n",
       " 'title_without_series': 'Good Harbor'}"
      ]
     },
     "execution_count": 5,
     "metadata": {},
     "output_type": "execute_result"
    }
   ],
   "source": [
    "b.map(flatten).take(10)[1]"
   ]
  },
  {
   "cell_type": "markdown",
   "metadata": {},
   "source": [
    "Applying `flatten` method to all the dataset:"
   ]
  },
  {
   "cell_type": "code",
   "execution_count": 6,
   "metadata": {},
   "outputs": [],
   "source": [
    "d = b.map(flatten)"
   ]
  },
  {
   "cell_type": "markdown",
   "metadata": {},
   "source": [
    "The number of records is:"
   ]
  },
  {
   "cell_type": "code",
   "execution_count": 7,
   "metadata": {},
   "outputs": [
    {
     "name": "stdout",
     "output_type": "stream",
     "text": [
      "CPU times: user 69.3 ms, sys: 53.4 ms, total: 123 ms\n",
      "Wall time: 1min 30s\n"
     ]
    },
    {
     "data": {
      "text/plain": [
       "2360655"
      ]
     },
     "execution_count": 7,
     "metadata": {},
     "output_type": "execute_result"
    }
   ],
   "source": [
    "%%time\n",
    "b.count().compute() "
   ]
  },
  {
   "cell_type": "markdown",
   "metadata": {},
   "source": [
    "### The powerfull of Dask Bag"
   ]
  },
  {
   "cell_type": "code",
   "execution_count": 8,
   "metadata": {},
   "outputs": [],
   "source": [
    "import matplotlib.pyplot as plt\n",
    "import seaborn as sns"
   ]
  },
  {
   "cell_type": "markdown",
   "metadata": {},
   "source": [
    "### 1. Distribution of languages"
   ]
  },
  {
   "cell_type": "code",
   "execution_count": 9,
   "metadata": {},
   "outputs": [],
   "source": [
    "languages = d.map(lambda h: h['language_code']).frequencies(sort=True).compute()"
   ]
  },
  {
   "cell_type": "markdown",
   "metadata": {},
   "source": [
    "Extracting the most popular languages (filtering languages lower than one thousand of books):"
   ]
  },
  {
   "cell_type": "code",
   "execution_count": 10,
   "metadata": {},
   "outputs": [],
   "source": [
    "top_languages = list(filter(lambda l: l[1] > 1000 and l[0] != '' ,languages))"
   ]
  },
  {
   "cell_type": "code",
   "execution_count": 11,
   "metadata": {},
   "outputs": [],
   "source": [
    "language, count = zip(*top_languages)"
   ]
  },
  {
   "cell_type": "code",
   "execution_count": 12,
   "metadata": {},
   "outputs": [
    {
     "data": {
      "image/png": "[encoded data removed]",
      "text/plain": [
       "<Figure size 1440x432 with 1 Axes>"
      ]
     },
     "metadata": {
      "needs_background": "light"
     },
     "output_type": "display_data"
    }
   ],
   "source": [
    "fig, ax = plt.subplots(figsize=(20,6))\n",
    "\n",
    "# Set the scale of the x-and y-axes\n",
    "ax.set(yscale=\"log\")\n",
    "\n",
    "# Create a barplot\n",
    "sns.barplot(list(language), count, ax=ax, palette='GnBu_r')\n",
    "plt.xlabel('Languages', fontsize=14)\n",
    "plt.ylabel('Number of books', fontsize=14)\n",
    "plt.title('Books by language', fontsize=18)\n",
    "\n",
    "# Show plot\n",
    "plt.show()"
   ]
  },
  {
   "cell_type": "markdown",
   "metadata": {},
   "source": [
    "Now, we build a dataframe with the information of books by languages with the method `to_dataframe` of Dask. Hereafter, we can use some the known dataframes methods that we are learning working with Pandas."
   ]
  },
  {
   "cell_type": "code",
   "execution_count": 13,
   "metadata": {},
   "outputs": [],
   "source": [
    "db_languages = d.map(lambda h: h['language_code']).frequencies(sort=True).to_dataframe()"
   ]
  },
  {
   "cell_type": "markdown",
   "metadata": {},
   "source": [
    "Adding appropiate labels for the columns:"
   ]
  },
  {
   "cell_type": "code",
   "execution_count": 14,
   "metadata": {},
   "outputs": [],
   "source": [
    "db_languages.columns = ['language', 'books']"
   ]
  },
  {
   "cell_type": "markdown",
   "metadata": {},
   "source": [
    "And deleting the column with missing information about the language:"
   ]
  },
  {
   "cell_type": "code",
   "execution_count": 15,
   "metadata": {},
   "outputs": [],
   "source": [
    "db_languages = db_languages[db_languages.language != ''].dropna()"
   ]
  },
  {
   "cell_type": "markdown",
   "metadata": {},
   "source": [
    "The most popular languages are:"
   ]
  },
  {
   "cell_type": "code",
   "execution_count": 16,
   "metadata": {},
   "outputs": [
    {
     "data": {
      "text/html": [
       "<div>\n",
       "<style scoped>\n",
       "    .dataframe tbody tr th:only-of-type {\n",
       "        vertical-align: middle;\n",
       "    }\n",
       "\n",
       "    .dataframe tbody tr th {\n",
       "        vertical-align: top;\n",
       "    }\n",
       "\n",
       "    .dataframe thead th {\n",
       "        text-align: right;\n",
       "    }\n",
       "</style>\n",
       "<table border=\"1\" class=\"dataframe\">\n",
       "  <thead>\n",
       "    <tr style=\"text-align: right;\">\n",
       "      <th></th>\n",
       "      <th>language</th>\n",
       "      <th>books</th>\n",
       "    </tr>\n",
       "  </thead>\n",
       "  <tbody>\n",
       "    <tr>\n",
       "      <th>1</th>\n",
       "      <td>eng</td>\n",
       "      <td>708457</td>\n",
       "    </tr>\n",
       "    <tr>\n",
       "      <th>2</th>\n",
       "      <td>en-US</td>\n",
       "      <td>91452</td>\n",
       "    </tr>\n",
       "    <tr>\n",
       "      <th>3</th>\n",
       "      <td>en-GB</td>\n",
       "      <td>58358</td>\n",
       "    </tr>\n",
       "    <tr>\n",
       "      <th>4</th>\n",
       "      <td>spa</td>\n",
       "      <td>54524</td>\n",
       "    </tr>\n",
       "    <tr>\n",
       "      <th>5</th>\n",
       "      <td>ita</td>\n",
       "      <td>50902</td>\n",
       "    </tr>\n",
       "    <tr>\n",
       "      <th>6</th>\n",
       "      <td>ara</td>\n",
       "      <td>42978</td>\n",
       "    </tr>\n",
       "    <tr>\n",
       "      <th>7</th>\n",
       "      <td>fre</td>\n",
       "      <td>32046</td>\n",
       "    </tr>\n",
       "    <tr>\n",
       "      <th>8</th>\n",
       "      <td>ger</td>\n",
       "      <td>30941</td>\n",
       "    </tr>\n",
       "    <tr>\n",
       "      <th>9</th>\n",
       "      <td>ind</td>\n",
       "      <td>27291</td>\n",
       "    </tr>\n",
       "    <tr>\n",
       "      <th>10</th>\n",
       "      <td>por</td>\n",
       "      <td>23452</td>\n",
       "    </tr>\n",
       "  </tbody>\n",
       "</table>\n",
       "</div>"
      ],
      "text/plain": [
       "   language   books\n",
       "1       eng  708457\n",
       "2     en-US   91452\n",
       "3     en-GB   58358\n",
       "4       spa   54524\n",
       "5       ita   50902\n",
       "6       ara   42978\n",
       "7       fre   32046\n",
       "8       ger   30941\n",
       "9       ind   27291\n",
       "10      por   23452"
      ]
     },
     "execution_count": 16,
     "metadata": {},
     "output_type": "execute_result"
    }
   ],
   "source": [
    "db_languages.head(10)"
   ]
  },
  {
   "cell_type": "markdown",
   "metadata": {},
   "source": [
    "### 2. Publication Date"
   ]
  },
  {
   "cell_type": "markdown",
   "metadata": {},
   "source": [
    "In this case, we apply a `flatten_year` function to extract `book_id` and `publication_year`. We group countries according to the publication year and then we display the results along the time."
   ]
  },
  {
   "cell_type": "code",
   "execution_count": 17,
   "metadata": {},
   "outputs": [],
   "source": [
    "def flatten_year(record):\n",
    "    return {\n",
    "        'book_id': record['book_id'],\n",
    "        'publication_year': record['publication_year']\n",
    "    }"
   ]
  },
  {
   "cell_type": "code",
   "execution_count": 18,
   "metadata": {},
   "outputs": [],
   "source": [
    "publication = d.map(lambda h: h['publication_year']).frequencies()"
   ]
  },
  {
   "cell_type": "markdown",
   "metadata": {},
   "source": [
    "Filtering missing data:"
   ]
  },
  {
   "cell_type": "code",
   "execution_count": 19,
   "metadata": {},
   "outputs": [],
   "source": [
    "pubYear = list(filter(lambda l: l[0] != '', publication))"
   ]
  },
  {
   "cell_type": "markdown",
   "metadata": {},
   "source": [
    "Now, with a significant reduction of data, we can easily manage this information in Pandas DataFrame. Converting the list to DataFrame:"
   ]
  },
  {
   "cell_type": "code",
   "execution_count": 20,
   "metadata": {},
   "outputs": [],
   "source": [
    "df = pd.DataFrame(pubYear, columns =['year', 'books'])"
   ]
  },
  {
   "cell_type": "code",
   "execution_count": 21,
   "metadata": {},
   "outputs": [
    {
     "name": "stdout",
     "output_type": "stream",
     "text": [
      "<class 'pandas.core.frame.DataFrame'>\n",
      "RangeIndex: 740 entries, 0 to 739\n",
      "Data columns (total 2 columns):\n",
      "year     740 non-null object\n",
      "books    740 non-null int64\n",
      "dtypes: int64(1), object(1)\n",
      "memory usage: 11.6+ KB\n"
     ]
    }
   ],
   "source": [
    "df.info()"
   ]
  },
  {
   "cell_type": "code",
   "execution_count": 22,
   "metadata": {},
   "outputs": [],
   "source": [
    "df['year'] = df.year.astype(int)"
   ]
  },
  {
   "cell_type": "markdown",
   "metadata": {},
   "source": [
    "To study the evolution of publications along the time, we check the validy of values in the DataFrame, displaying a boxplot to detect outliers or anomally values visually:"
   ]
  },
  {
   "cell_type": "code",
   "execution_count": 23,
   "metadata": {},
   "outputs": [
    {
     "data": {
      "image/png": "[encoded data removed]",
      "text/plain": [
       "<Figure size 1080x360 with 1 Axes>"
      ]
     },
     "metadata": {
      "needs_background": "light"
     },
     "output_type": "display_data"
    }
   ],
   "source": [
    "fig, ax = plt.subplots(figsize=(15,5))\n",
    "\n",
    "_ = ax.set(xscale=\"log\")\n",
    "_ = sns.boxplot(x='year', data=df, ax=ax)\n",
    "_ = plt.xlabel('Publication year', fontsize=14)\n",
    "_ = plt.title('Boxplot publication of books along the time', fontsize=18)\n",
    "\n",
    "plt.show()"
   ]
  },
  {
   "cell_type": "markdown",
   "metadata": {},
   "source": [
    "This is a very interesting result. It's impossible to anticipate future publications and we assert that every publication year more than 2017 is an invalid value, because it doesn't make sense. But what about anciant literature? The **oldest book in the world** belongs to the Etruscan civilization and it is 2500 years old. After that, different cultural expressions -Bible, religious and scientific manuscripts- have been developed and luckely preserved until now.\n",
    "\n",
    "To analyze a reasonable period of time, we inspect the percentiles 25 and 75-80 from data:"
   ]
  },
  {
   "cell_type": "code",
   "execution_count": 24,
   "metadata": {},
   "outputs": [
    {
     "name": "stdout",
     "output_type": "stream",
     "text": [
      "Percentile 25% : 1362.75\n",
      "Percentile 77% : 2017.03\n"
     ]
    }
   ],
   "source": [
    "print('Percentile 25% : {}'.format(np.percentile(df['year'], 25)))\n",
    "print('Percentile 77% : {}'.format(np.percentile(df['year'], 77)))"
   ]
  },
  {
   "cell_type": "code",
   "execution_count": 25,
   "metadata": {},
   "outputs": [],
   "source": [
    "df_year = df[(df['year'] > np.percentile(df['year'], 25)) & (df['year'] < np.percentile(df['year'], 77))]"
   ]
  },
  {
   "cell_type": "code",
   "execution_count": 26,
   "metadata": {},
   "outputs": [
    {
     "data": {
      "text/html": [
       "<div>\n",
       "<style scoped>\n",
       "    .dataframe tbody tr th:only-of-type {\n",
       "        vertical-align: middle;\n",
       "    }\n",
       "\n",
       "    .dataframe tbody tr th {\n",
       "        vertical-align: top;\n",
       "    }\n",
       "\n",
       "    .dataframe thead th {\n",
       "        text-align: right;\n",
       "    }\n",
       "</style>\n",
       "<table border=\"1\" class=\"dataframe\">\n",
       "  <thead>\n",
       "    <tr style=\"text-align: right;\">\n",
       "      <th></th>\n",
       "      <th>year</th>\n",
       "      <th>books</th>\n",
       "    </tr>\n",
       "  </thead>\n",
       "  <tbody>\n",
       "    <tr>\n",
       "      <th>0</th>\n",
       "      <td>1984</td>\n",
       "      <td>5791</td>\n",
       "    </tr>\n",
       "    <tr>\n",
       "      <th>1</th>\n",
       "      <td>2001</td>\n",
       "      <td>28229</td>\n",
       "    </tr>\n",
       "    <tr>\n",
       "      <th>2</th>\n",
       "      <td>1987</td>\n",
       "      <td>7568</td>\n",
       "    </tr>\n",
       "    <tr>\n",
       "      <th>3</th>\n",
       "      <td>2009</td>\n",
       "      <td>77452</td>\n",
       "    </tr>\n",
       "    <tr>\n",
       "      <th>4</th>\n",
       "      <td>2006</td>\n",
       "      <td>51178</td>\n",
       "    </tr>\n",
       "  </tbody>\n",
       "</table>\n",
       "</div>"
      ],
      "text/plain": [
       "   year  books\n",
       "0  1984   5791\n",
       "1  2001  28229\n",
       "2  1987   7568\n",
       "3  2009  77452\n",
       "4  2006  51178"
      ]
     },
     "execution_count": 26,
     "metadata": {},
     "output_type": "execute_result"
    }
   ],
   "source": [
    "df_year.head()"
   ]
  },
  {
   "cell_type": "markdown",
   "metadata": {},
   "source": [
    "The **historical publication** of books in the selected period is displaying as following:"
   ]
  },
  {
   "cell_type": "code",
   "execution_count": 27,
   "metadata": {},
   "outputs": [
    {
     "data": {
      "image/png": "[encoded data removed]",
      "text/plain": [
       "<Figure size 1440x360 with 1 Axes>"
      ]
     },
     "metadata": {
      "needs_background": "light"
     },
     "output_type": "display_data"
    }
   ],
   "source": [
    "fig, ax = plt.subplots(figsize=(20,5))\n",
    "\n",
    "_ = ax.set(yscale=\"log\")\n",
    "_ = sns.lineplot(x='year', y='books', data=df_year, palette=\"tab10\", ax=ax, linewidth=1, color='slateblue')\n",
    "_ = plt.xlabel('Publication year', fontsize=14)\n",
    "_ = plt.ylabel('Number of books', fontsize=14)\n",
    "_ = plt.title('Book Publications by year', fontsize=18)\n",
    "\n",
    "plt.show()"
   ]
  },
  {
   "cell_type": "markdown",
   "metadata": {},
   "source": [
    "And finally, displaying the **moving average** (using rolling windows of 50 years):"
   ]
  },
  {
   "cell_type": "code",
   "execution_count": 28,
   "metadata": {},
   "outputs": [
    {
     "name": "stderr",
     "output_type": "stream",
     "text": [
      "/Users/daniela/anaconda3/lib/python3.7/site-packages/scipy/stats/stats.py:1713: FutureWarning: Using a non-tuple sequence for multidimensional indexing is deprecated; use `arr[tuple(seq)]` instead of `arr[seq]`. In the future this will be interpreted as an array index, `arr[np.array(seq)]`, which will result either in an error or a different result.\n",
      "  return np.add.reduce(sorted[indexer] * weights, axis=axis) / sumval\n"
     ]
    },
    {
     "data": {
      "image/png": "[encoded data removed]",
      "text/plain": [
       "<Figure size 1440x360 with 1 Axes>"
      ]
     },
     "metadata": {
      "needs_background": "light"
     },
     "output_type": "display_data"
    }
   ],
   "source": [
    "data = df_year.rolling(50).mean()\n",
    "\n",
    "fig, ax = plt.subplots(figsize=(20,5))\n",
    "_ = ax.set(yscale=\"log\")\n",
    "_ = sns.lineplot(x='year', y='books', data=data, ax=ax, linewidth=2)\n",
    "_ = plt.xlabel('Publication year', fontsize=14)\n",
    "_ = plt.ylabel('Number of books', fontsize=14)\n",
    "_ = plt.title('Moving Average of publications', fontsize=18)\n",
    "\n",
    "plt.show()"
   ]
  },
  {
   "cell_type": "markdown",
   "metadata": {},
   "source": [
    "### 3. Formats, publishers and number of pages"
   ]
  },
  {
   "cell_type": "markdown",
   "metadata": {},
   "source": [
    "**Bag** objects allow us mapping and filtering information. For instances, the top then types of format used are:"
   ]
  },
  {
   "cell_type": "code",
   "execution_count": 29,
   "metadata": {},
   "outputs": [
    {
     "data": {
      "text/plain": [
       "[('Paperback', 894617),\n",
       " ('Hardcover', 359563),\n",
       " ('ebook', 188733),\n",
       " ('Kindle Edition', 125566),\n",
       " ('Mass Market Paperback', 42224),\n",
       " ('Audio CD', 30588),\n",
       " ('Audiobook', 17387),\n",
       " ('Audible Audio', 11073),\n",
       " ('Audio', 8335),\n",
       " ('Unknown Binding', 8126)]"
      ]
     },
     "execution_count": 29,
     "metadata": {},
     "output_type": "execute_result"
    }
   ],
   "source": [
    "d.filter(lambda h: h['format'] != '').map(lambda h: h['format']).frequencies(sort=True).topk(10, key=1).compute()"
   ]
  },
  {
   "cell_type": "markdown",
   "metadata": {},
   "source": [
    "The same exercise, but for publishes:"
   ]
  },
  {
   "cell_type": "code",
   "execution_count": 30,
   "metadata": {},
   "outputs": [
    {
     "data": {
      "text/plain": [
       "[('Createspace Independent Publishing Platform', 18604),\n",
       " ('Smashwords Edition', 11513),\n",
       " ('Harlequin', 10300),\n",
       " ('Createspace', 9688),\n",
       " ('HarperCollins', 8173),\n",
       " ('Penguin Books', 7429),\n",
       " ('Oxford University Press, USA', 6741),\n",
       " ('Brilliance Audio', 6350),\n",
       " ('Vintage', 6338),\n",
       " ('Berkley', 5546)]"
      ]
     },
     "execution_count": 30,
     "metadata": {},
     "output_type": "execute_result"
    }
   ],
   "source": [
    "d.filter(lambda h: h['publisher'] != '').map(lambda h: h['publisher']).frequencies(sort=True).topk(10, key=1).compute()"
   ]
  },
  {
   "cell_type": "code",
   "execution_count": 31,
   "metadata": {},
   "outputs": [],
   "source": [
    "df = d.to_dataframe()"
   ]
  },
  {
   "cell_type": "code",
   "execution_count": 32,
   "metadata": {},
   "outputs": [],
   "source": [
    "df_ratings_pages = df.loc[:, ['book_id', 'num_pages', 'average_rating']]"
   ]
  },
  {
   "cell_type": "code",
   "execution_count": 33,
   "metadata": {},
   "outputs": [],
   "source": [
    "df_ratings_pages['num_pages'] = df_ratings_pages.num_pages.astype(int)\n",
    "df_ratings_pages['average_rating'] = df_ratings_pages.average_rating.astype(float)"
   ]
  },
  {
   "cell_type": "code",
   "execution_count": 34,
   "metadata": {},
   "outputs": [
    {
     "name": "stdout",
     "output_type": "stream",
     "text": [
      "<class 'dask.dataframe.core.DataFrame'>\n",
      "Columns: 3 entries, book_id to average_rating\n",
      "dtypes: object(1), float64(1), int64(1)"
     ]
    }
   ],
   "source": [
    "df_ratings_pages.info()"
   ]
  },
  {
   "cell_type": "code",
   "execution_count": 35,
   "metadata": {},
   "outputs": [
    {
     "data": {
      "text/html": [
       "<div><strong>Dask DataFrame Structure:</strong></div>\n",
       "<div>\n",
       "<style scoped>\n",
       "    .dataframe tbody tr th:only-of-type {\n",
       "        vertical-align: middle;\n",
       "    }\n",
       "\n",
       "    .dataframe tbody tr th {\n",
       "        vertical-align: top;\n",
       "    }\n",
       "\n",
       "    .dataframe thead th {\n",
       "        text-align: right;\n",
       "    }\n",
       "</style>\n",
       "<table border=\"1\" class=\"dataframe\">\n",
       "  <thead>\n",
       "    <tr style=\"text-align: right;\">\n",
       "      <th></th>\n",
       "      <th>book_id</th>\n",
       "      <th>num_pages</th>\n",
       "      <th>average_rating</th>\n",
       "    </tr>\n",
       "    <tr>\n",
       "      <th>npartitions=1</th>\n",
       "      <th></th>\n",
       "      <th></th>\n",
       "      <th></th>\n",
       "    </tr>\n",
       "  </thead>\n",
       "  <tbody>\n",
       "    <tr>\n",
       "      <th></th>\n",
       "      <td>object</td>\n",
       "      <td>int64</td>\n",
       "      <td>float64</td>\n",
       "    </tr>\n",
       "    <tr>\n",
       "      <th></th>\n",
       "      <td>...</td>\n",
       "      <td>...</td>\n",
       "      <td>...</td>\n",
       "    </tr>\n",
       "  </tbody>\n",
       "</table>\n",
       "</div>\n",
       "<div>Dask Name: getitem, 13 tasks</div>"
      ],
      "text/plain": [
       "Dask DataFrame Structure:\n",
       "              book_id num_pages average_rating\n",
       "npartitions=1                                 \n",
       "               object     int64        float64\n",
       "                  ...       ...            ...\n",
       "Dask Name: getitem, 13 tasks"
      ]
     },
     "execution_count": 35,
     "metadata": {},
     "output_type": "execute_result"
    }
   ],
   "source": [
    "df_ratings_pages[df_ratings_pages.num_pages < 10]"
   ]
  },
  {
   "cell_type": "code",
   "execution_count": null,
   "metadata": {},
   "outputs": [],
   "source": []
  },
  {
   "cell_type": "code",
   "execution_count": null,
   "metadata": {},
   "outputs": [],
   "source": []
  }
 ],
 "metadata": {
  "kernelspec": {
   "display_name": "Python 3",
   "language": "python",
   "name": "python3"
  },
  "language_info": {
   "codemirror_mode": {
    "name": "ipython",
    "version": 3
   },
   "file_extension": ".py",
   "mimetype": "text/x-python",
   "name": "python",
   "nbconvert_exporter": "python",
   "pygments_lexer": "ipython3",
   "version": "3.7.1"
  }
 },
 "nbformat": 4,
 "nbformat_minor": 2
}
