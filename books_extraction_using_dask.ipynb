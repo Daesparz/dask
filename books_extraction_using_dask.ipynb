{
 "cells": [
  {
   "cell_type": "markdown",
   "metadata": {},
   "source": [
    "# Dask to deal with large datasets"
   ]
  },
  {
   "cell_type": "markdown",
   "metadata": {},
   "source": [
    "Dask uses existing Python APIs and data structures to make you feel comfortable using its Numpy, Pandas and Scikit-learn equivalent tools. \n",
    "\n",
    "In this section, we use Dask Bag and Python JSON module to get initial findings from a large JSON data (9.2GB) of books. Dask Bag implements operations like *map*, *filter*, *fold*, and *groupby* on collections of generic Python objects. In the following, we are processing this data filtering records of interest, mapping functions to process the data and aggregating results to get meaningful values."
   ]
  },
  {
   "cell_type": "markdown",
   "metadata": {},
   "source": [
    "Importing packages:"
   ]
  },
  {
   "cell_type": "code",
   "execution_count": 1,
   "metadata": {},
   "outputs": [],
   "source": [
    "import dask.bag as db\n",
    "import json\n",
    "\n",
    "b = db.read_text('books/goodreads_books.json').map(json.loads)"
   ]
  },
  {
   "cell_type": "markdown",
   "metadata": {},
   "source": [
    "Every book contains its own dictionary of information. Displaying the content of one dictionary, we know exactly how data looks and the name of the different keys. Taking 1 sample:"
   ]
  },
  {
   "cell_type": "code",
   "execution_count": 2,
   "metadata": {
    "scrolled": false
   },
   "outputs": [
    {
     "data": {
      "text/plain": [
       "({'isbn': '0312853122',\n",
       "  'text_reviews_count': '1',\n",
       "  'series': [],\n",
       "  'country_code': 'US',\n",
       "  'language_code': '',\n",
       "  'popular_shelves': [{'count': '3', 'name': 'to-read'},\n",
       "   {'count': '1', 'name': 'p'},\n",
       "   {'count': '1', 'name': 'collection'},\n",
       "   {'count': '1', 'name': 'w-c-fields'},\n",
       "   {'count': '1', 'name': 'biography'}],\n",
       "  'asin': '',\n",
       "  'is_ebook': 'false',\n",
       "  'average_rating': '4.00',\n",
       "  'kindle_asin': '',\n",
       "  'similar_books': [],\n",
       "  'description': '',\n",
       "  'format': 'Paperback',\n",
       "  'link': 'https://www.goodreads.com/book/show/5333265-w-c-fields',\n",
       "  'authors': [{'author_id': '604031', 'role': ''}],\n",
       "  'publisher': \"St. Martin's Press\",\n",
       "  'num_pages': '256',\n",
       "  'publication_day': '1',\n",
       "  'isbn13': '9780312853129',\n",
       "  'publication_month': '9',\n",
       "  'edition_information': '',\n",
       "  'publication_year': '1984',\n",
       "  'url': 'https://www.goodreads.com/book/show/5333265-w-c-fields',\n",
       "  'image_url': 'https://images.gr-assets.com/books/1310220028m/5333265.jpg',\n",
       "  'book_id': '5333265',\n",
       "  'ratings_count': '3',\n",
       "  'work_id': '5400751',\n",
       "  'title': 'W.C. Fields: A Life on Film',\n",
       "  'title_without_series': 'W.C. Fields: A Life on Film'},)"
      ]
     },
     "execution_count": 2,
     "metadata": {},
     "output_type": "execute_result"
    }
   ],
   "source": [
    "b.take(1)"
   ]
  },
  {
   "cell_type": "code",
   "execution_count": 3,
   "metadata": {},
   "outputs": [
    {
     "name": "stdout",
     "output_type": "stream",
     "text": [
      "<class 'dask.bag.core.Bag'>\n"
     ]
    }
   ],
   "source": [
    "print(type(b))"
   ]
  },
  {
   "cell_type": "markdown",
   "metadata": {},
   "source": [
    "Now, we know that there is information about language, publication date, author, title, format, description of the book and more. If you have an idea about what are you exactly looking for, you can reduce the size of this bag selecting only the useful columns. This is specially practical if you create a DataFrame later."
   ]
  },
  {
   "cell_type": "markdown",
   "metadata": {},
   "source": [
    "Here, we retrieve some keys, listed to following, in the method `flatten`."
   ]
  },
  {
   "cell_type": "code",
   "execution_count": 4,
   "metadata": {},
   "outputs": [],
   "source": [
    "def flatten(record):\n",
    "    return {\n",
    "        'text_reviews_count': record['text_reviews_count'],\n",
    "        'language_code': record['language_code'],\n",
    "        'is_ebook': record['is_ebook'],\n",
    "        'average_rating': record['average_rating'],\n",
    "        'kindle_asin': record['kindle_asin'],\n",
    "        'description': record['description'],\n",
    "        'format': record['format'],\n",
    "        'authors': record['authors'],\n",
    "        'publisher': record['publisher'],\n",
    "        'num_pages': record['num_pages'],\n",
    "        'publication_day': record['publication_day'],\n",
    "        'publication_month': record['publication_month'],\n",
    "        'publication_year': record['publication_year'],\n",
    "        'book_id': record['book_id'],\n",
    "        'ratings_count': record['ratings_count'],\n",
    "        'title': record['title'],\n",
    "        'title_without_series': record['title_without_series']\n",
    "    }"
   ]
  },
  {
   "cell_type": "markdown",
   "metadata": {},
   "source": [
    "Taking 10 items, but displaying the second one:"
   ]
  },
  {
   "cell_type": "code",
   "execution_count": 5,
   "metadata": {},
   "outputs": [
    {
     "data": {
      "text/plain": [
       "{'text_reviews_count': '6',\n",
       " 'language_code': '',\n",
       " 'is_ebook': 'false',\n",
       " 'average_rating': '3.23',\n",
       " 'kindle_asin': 'B000FC0PBC',\n",
       " 'description': 'Anita Diamant\\'s international bestseller \"The Red Tent\" brilliantly re-created the ancient world of womanhood. Diamant brings her remarkable storytelling skills to \"Good Harbor\" -- offering insight to the precarious balance of marriage and career, motherhood and friendship in the world of modern women. The seaside town of Gloucester, Massachusetts is a place where the smell of the ocean lingers in the air and the rocky coast glistens in the Atlantic sunshine. When longtime Gloucester-resident Kathleen Levine is diagnosed with breast cancer, her life is thrown into turmoil. Frightened and burdened by secrets, she meets Joyce Tabachnik -- a freelance writer with literary aspirations -- and a once-in-a-lifetime friendship is born. Joyce has just bought a small house in Gloucester, where she hopes to write as well as vacation with her family. Like Kathleen, Joyce is at a fragile place in her life.\\nA mutual love for books, humor, and the beauty of the natural world brings the two women together. They share their personal histories, and help each other to confront scars left by old emotional wounds.\\nWith her own trademark wisdom and humor, Diamant considers the nature, strength, and necessity of adult female friendship. \"Good Harbor\" examines the tragedy of loss, the insidious nature of family secrets, as well as the redemptive power of friendship.',\n",
       " 'format': 'Audio CD',\n",
       " 'authors': [{'author_id': '626222', 'role': ''}],\n",
       " 'publisher': 'Simon & Schuster Audio',\n",
       " 'num_pages': '',\n",
       " 'publication_day': '1',\n",
       " 'publication_month': '10',\n",
       " 'publication_year': '2001',\n",
       " 'book_id': '1333909',\n",
       " 'ratings_count': '10',\n",
       " 'title': 'Good Harbor',\n",
       " 'title_without_series': 'Good Harbor'}"
      ]
     },
     "execution_count": 5,
     "metadata": {},
     "output_type": "execute_result"
    }
   ],
   "source": [
    "b.map(flatten).take(10)[1]"
   ]
  },
  {
   "cell_type": "markdown",
   "metadata": {},
   "source": [
    "Applying `flatten` method to all the dataset:"
   ]
  },
  {
   "cell_type": "code",
   "execution_count": 6,
   "metadata": {},
   "outputs": [],
   "source": [
    "d = b.map(flatten)"
   ]
  },
  {
   "cell_type": "markdown",
   "metadata": {},
   "source": [
    "Number of records in the dataset:"
   ]
  },
  {
   "cell_type": "code",
   "execution_count": 7,
   "metadata": {},
   "outputs": [
    {
     "data": {
      "text/plain": [
       "2360655"
      ]
     },
     "execution_count": 7,
     "metadata": {},
     "output_type": "execute_result"
    }
   ],
   "source": [
    "b.count().compute()"
   ]
  },
  {
   "cell_type": "markdown",
   "metadata": {},
   "source": [
    "### The powerfull of Dask Bag"
   ]
  },
  {
   "cell_type": "code",
   "execution_count": 8,
   "metadata": {},
   "outputs": [],
   "source": [
    "import matplotlib.pyplot as plt\n",
    "import seaborn as sns"
   ]
  },
  {
   "cell_type": "markdown",
   "metadata": {},
   "source": [
    "### 1. Distribution of languages"
   ]
  },
  {
   "cell_type": "code",
   "execution_count": 9,
   "metadata": {},
   "outputs": [],
   "source": [
    "languages = d.map(lambda h: h['language_code']).frequencies(sort=True).compute()"
   ]
  },
  {
   "cell_type": "markdown",
   "metadata": {},
   "source": [
    "Extracting the most popular languages (filtering languages lower than one thousand of books):"
   ]
  },
  {
   "cell_type": "code",
   "execution_count": 10,
   "metadata": {},
   "outputs": [],
   "source": [
    "top_languages = list(filter(lambda l: l[1] > 1000 and l[0] != '' ,languages))"
   ]
  },
  {
   "cell_type": "code",
   "execution_count": 11,
   "metadata": {},
   "outputs": [],
   "source": [
    "language, count = zip(*top_languages)"
   ]
  },
  {
   "cell_type": "code",
   "execution_count": 12,
   "metadata": {},
   "outputs": [
    {
     "data": {
      "image/png": "[encoded data removed]",
      "text/plain": [
       "<Figure size 1440x432 with 1 Axes>"
      ]
     },
     "metadata": {
      "needs_background": "light"
     },
     "output_type": "display_data"
    }
   ],
   "source": [
    "fig, ax = plt.subplots(figsize=(20,6))\n",
    "\n",
    "# Set the scale of the x-and y-axes\n",
    "ax.set(yscale=\"log\")\n",
    "\n",
    "# Create a barplot\n",
    "sns.barplot(list(language), count, ax=ax, palette='GnBu_r')\n",
    "\n",
    "# Show plot\n",
    "plt.show()"
   ]
  },
  {
   "cell_type": "code",
   "execution_count": 13,
   "metadata": {},
   "outputs": [],
   "source": [
    "db_languages = d.map(lambda h: h['language_code']).frequencies(sort=True).to_dataframe()"
   ]
  },
  {
   "cell_type": "code",
   "execution_count": 14,
   "metadata": {},
   "outputs": [],
   "source": [
    "db_languages.columns = ['country', 'books']"
   ]
  },
  {
   "cell_type": "code",
   "execution_count": 15,
   "metadata": {},
   "outputs": [],
   "source": [
    "db_languages = db_languages[db_languages.country != '']"
   ]
  },
  {
   "cell_type": "code",
   "execution_count": 16,
   "metadata": {},
   "outputs": [
    {
     "data": {
      "text/html": [
       "<div>\n",
       "<style scoped>\n",
       "    .dataframe tbody tr th:only-of-type {\n",
       "        vertical-align: middle;\n",
       "    }\n",
       "\n",
       "    .dataframe tbody tr th {\n",
       "        vertical-align: top;\n",
       "    }\n",
       "\n",
       "    .dataframe thead th {\n",
       "        text-align: right;\n",
       "    }\n",
       "</style>\n",
       "<table border=\"1\" class=\"dataframe\">\n",
       "  <thead>\n",
       "    <tr style=\"text-align: right;\">\n",
       "      <th></th>\n",
       "      <th>country</th>\n",
       "      <th>books</th>\n",
       "    </tr>\n",
       "  </thead>\n",
       "  <tbody>\n",
       "    <tr>\n",
       "      <th>1</th>\n",
       "      <td>eng</td>\n",
       "      <td>708457</td>\n",
       "    </tr>\n",
       "    <tr>\n",
       "      <th>2</th>\n",
       "      <td>en-US</td>\n",
       "      <td>91452</td>\n",
       "    </tr>\n",
       "    <tr>\n",
       "      <th>3</th>\n",
       "      <td>en-GB</td>\n",
       "      <td>58358</td>\n",
       "    </tr>\n",
       "    <tr>\n",
       "      <th>4</th>\n",
       "      <td>spa</td>\n",
       "      <td>54524</td>\n",
       "    </tr>\n",
       "    <tr>\n",
       "      <th>5</th>\n",
       "      <td>ita</td>\n",
       "      <td>50902</td>\n",
       "    </tr>\n",
       "  </tbody>\n",
       "</table>\n",
       "</div>"
      ],
      "text/plain": [
       "  country   books\n",
       "1     eng  708457\n",
       "2   en-US   91452\n",
       "3   en-GB   58358\n",
       "4     spa   54524\n",
       "5     ita   50902"
      ]
     },
     "execution_count": 16,
     "metadata": {},
     "output_type": "execute_result"
    }
   ],
   "source": [
    "db_languages.head()"
   ]
  },
  {
   "cell_type": "code",
   "execution_count": null,
   "metadata": {},
   "outputs": [],
   "source": []
  },
  {
   "cell_type": "code",
   "execution_count": null,
   "metadata": {},
   "outputs": [],
   "source": []
  },
  {
   "cell_type": "code",
   "execution_count": null,
   "metadata": {},
   "outputs": [],
   "source": []
  },
  {
   "cell_type": "code",
   "execution_count": 17,
   "metadata": {},
   "outputs": [],
   "source": [
    "df = b.map(flatten).to_dataframe()"
   ]
  },
  {
   "cell_type": "code",
   "execution_count": 18,
   "metadata": {},
   "outputs": [
    {
     "data": {
      "text/plain": [
       "[('US', 2360165), ('', 490)]"
      ]
     },
     "execution_count": 18,
     "metadata": {},
     "output_type": "execute_result"
    }
   ],
   "source": [
    "b.map(lambda h: h['country_code']).frequencies().compute()"
   ]
  },
  {
   "cell_type": "code",
   "execution_count": 19,
   "metadata": {},
   "outputs": [],
   "source": [
    "df = b.to_dataframe()"
   ]
  },
  {
   "cell_type": "code",
   "execution_count": 20,
   "metadata": {},
   "outputs": [
    {
     "name": "stdout",
     "output_type": "stream",
     "text": [
      "<class 'dask.dataframe.core.DataFrame'>\n"
     ]
    }
   ],
   "source": [
    "print(type(df))"
   ]
  }
 ],
 "metadata": {
  "kernelspec": {
   "display_name": "Python 3",
   "language": "python",
   "name": "python3"
  },
  "language_info": {
   "codemirror_mode": {
    "name": "ipython",
    "version": 3
   },
   "file_extension": ".py",
   "mimetype": "text/x-python",
   "name": "python",
   "nbconvert_exporter": "python",
   "pygments_lexer": "ipython3",
   "version": "3.7.1"
  }
 },
 "nbformat": 4,
 "nbformat_minor": 2
}
